{
 "cells": [
  {
   "cell_type": "markdown",
   "metadata": {},
   "source": [
    "# Dataset Importing and Forming"
   ]
  },
  {
   "cell_type": "code",
   "execution_count": 15,
   "metadata": {},
   "outputs": [
    {
     "name": "stdout",
     "output_type": "stream",
     "text": [
      "<class 'pandas.core.frame.DataFrame'>\n",
      "RangeIndex: 1870664 entries, 0 to 1870663\n",
      "Data columns (total 19 columns):\n",
      "Artist(s)           object\n",
      "Date                object\n",
      "Duration            int64\n",
      "Popularity          int64\n",
      "Song Title          object\n",
      "Success             int64\n",
      "acousticness        float64\n",
      "danceability        float64\n",
      "energy              float64\n",
      "id                  object\n",
      "instrumentalness    float64\n",
      "key                 int64\n",
      "liveness            float64\n",
      "loudness            float64\n",
      "mode                int64\n",
      "speechiness         float64\n",
      "tempo               float64\n",
      "time_signature      int64\n",
      "valence             float64\n",
      "dtypes: float64(9), int64(6), object(4)\n",
      "memory usage: 271.2+ MB\n",
      "None\n"
     ]
    }
   ],
   "source": [
    "import pandas as pd\n",
    "import numpy as np\n",
    "import matplotlib.pyplot as plt\n",
    "from sklearn.neural_network import MLPClassifier\n",
    "from random import sample\n",
    "from sklearn.preprocessing import StandardScaler\n",
    "\n",
    "sc = StandardScaler()\n",
    "\n",
    "def scale_data(frame):\n",
    "    cols = frame.columns\n",
    "    frame = pd.DataFrame(sc.fit_transform(frame))\n",
    "    frame.columns = cols\n",
    "    \n",
    "    return frame\n",
    "\n",
    "def construct_confusion(truth, prediction):\n",
    "    #Construct Confusion matrix\n",
    "    confusion = np.array([[0,0],[0,0]])\n",
    "    for i in range(0, len(truth)):\n",
    "        if (truth[i] == 0):\n",
    "            if prediction[i] == 0:\n",
    "                confusion[0,0] += 1\n",
    "            else:\n",
    "                confusion[0,1] += 1\n",
    "        else:\n",
    "            if prediction[i] == 0:\n",
    "                confusion[1,0] += 1\n",
    "            else:\n",
    "                confusion[1,1] += 1\n",
    "                \n",
    "    return confusion/len(truth)\n",
    "\n",
    "def print_confusion(confusion):\n",
    "    print(\"\\n   Predicted Class\")\n",
    "    print(\"      0    |   1\")\n",
    "    print(\"0 | %.4f | %.4f |\"%(confusion[0,0], confusion[0,1]))\n",
    "    print(\"1 | %.4f | %.4f |\\n\"%(confusion[1,0], confusion[1,1]))\n",
    "\n",
    "def print_accuracy(trained_model, X, X_test, Y, Y_test):\n",
    "    prediction = trained_model.predict(X)\n",
    "    truth = Y.to_numpy()\n",
    "    diff = truth - prediction\n",
    "\n",
    "    confusion_train = construct_confusion(truth, prediction)\n",
    "\n",
    "    print(\"Training Accuracy: %.2f%%\"%(100 - np.sum(np.abs(diff))*100/len(truth)))\n",
    "    print_confusion(confusion_train)\n",
    "\n",
    "    prediction = trained_model.predict(X_test)\n",
    "    truth = Y_test.to_numpy()\n",
    "    diff = truth - prediction\n",
    "\n",
    "    confusion_test = construct_confusion(truth, prediction)\n",
    "\n",
    "    print(\"Test Accuracy: %.2f%%\"%(100 - np.sum(np.abs(diff))*100/len(truth)))\n",
    "    print_confusion(confusion_test)\n",
    "\n",
    "    print(\"In-Sample Percent Success: %.2f%%\"%((confusion_train[1,1]*100)/(confusion_train[1,1]+confusion_train[1,0])))\n",
    "    print(\"In-Sample Percent Fail: %.2f%%\"%((confusion_train[0,0]*100)/(confusion_train[0,1]+confusion_train[0,0])))\n",
    "    print(\"Out-Sample Percent Success: %.2f%%\"%((confusion_test[1,1]*100)/(confusion_test[1,1]+confusion_test[1,0])))\n",
    "    print(\"Out-Sample Percent Fail: %.2f%%\"%((confusion_test[0,0]*100)/(confusion_test[0,1]+confusion_test[0,0])))\n",
    "\n",
    "def split_train_and_test(full_dataset, percent_split):\n",
    "    if not(percent_split > 0 and percent_split < 1):\n",
    "        print(\"Invalid Split: Value must be between 0 and 1\")\n",
    "        return None\n",
    "\n",
    "    data_points = full_dataset.shape[0]\n",
    "\n",
    "    #Create Training_list\n",
    "    training_list = sample(range(data_points), int(percent_split*data_points))\n",
    "    training_list.sort()\n",
    "\n",
    "    #Create Test List\n",
    "    full = [x for x in range(0,data_points)]\n",
    "    full_set = set(full)\n",
    "    test_list = list(full_set - set(training_list))\n",
    "    test_list.sort()\n",
    "\n",
    "    training_set = full_dataset.iloc[training_list]\n",
    "    test_set = full_dataset.iloc[test_list]\n",
    "\n",
    "    training_set.reset_index(inplace=True, drop=True)\n",
    "    test_set.reset_index(inplace=True, drop=True)\n",
    "\n",
    "    if (training_set.shape[0] + test_set.shape[0]) == data_points:\n",
    "        print(\"Good Split\")\n",
    "        return {'training_set':training_set, 'test_set': test_set}\n",
    "    else:\n",
    "        print(\"Whoops! BAD SPLIT. Not sure what happened :/\")\n",
    "        return None\n",
    "\n",
    "def print_set_info(full_set, X, X_test, Y, Y_test):\n",
    "    print(\"\\nTrain Set Size: %.2f%%\"%(X.shape[0]*100/full_set.shape[0]))\n",
    "    print(\"Test Set Size:  %.2f%%\"%(X_test.shape[0]*100/full_set.shape[0]))\n",
    "\n",
    "    success = np.sum(full_set['Success'].to_numpy())\n",
    "    total = len(full_set['Success'].to_numpy())\n",
    "    print(\"\\nOverall Success:   %.5f%%\"%(success*100/total))\n",
    "\n",
    "    success = np.sum(Y.to_numpy())\n",
    "    total = len(Y.to_numpy())\n",
    "    print(\"Training Success:  %.5f%%\"%(success*100/total))\n",
    "\n",
    "    success = np.sum(Y_test.to_numpy())\n",
    "    total = len(Y_test.to_numpy())\n",
    "    print(\"Test Success:      %.5f%%\"%(success*100/total))\n",
    "    \n",
    "def get_accuracy(trained_model, X, X_test, Y, Y_test):\n",
    "    prediction = trained_model.predict(X)\n",
    "    truth = Y.to_numpy()\n",
    "    diff = truth - prediction\n",
    "\n",
    "    confusion_train = construct_confusion(truth, prediction)\n",
    "\n",
    "    prediction = trained_model.predict(X_test)\n",
    "    truth = Y_test.to_numpy()\n",
    "    diff = truth - prediction\n",
    "\n",
    "    confusion_test = construct_confusion(truth, prediction)\n",
    "    \n",
    "    in_samp_success = (confusion_train[1,1]*100)/(confusion_train[1,1]+confusion_train[1,0])\n",
    "    in_samp_fail = (confusion_train[0,0]*100)/(confusion_train[0,1]+confusion_train[0,0])\n",
    "    out_samp_success = (confusion_test[1,1]*100)/(confusion_test[1,1]+confusion_test[1,0])\n",
    "    out_samp_fail = (confusion_test[0,0]*100)/(confusion_test[0,1]+confusion_test[0,0])\n",
    "    \n",
    "    return {'in': [in_samp_success, in_samp_fail], 'out':[out_samp_success, out_samp_fail]}\n",
    "\n",
    "\n",
    "data_file = \"../data/full_dataset.csv\"\n",
    "big_frame = pd.read_csv(data_file, index_col=False)\n",
    "big_frame = big_frame.astype({'Success': int})\n",
    "print(big_frame.info())"
   ]
  },
  {
   "cell_type": "code",
   "execution_count": 132,
   "metadata": {
    "scrolled": false
   },
   "outputs": [
    {
     "name": "stdout",
     "output_type": "stream",
     "text": [
      "Good Split\n",
      "<class 'pandas.core.frame.DataFrame'>\n",
      "RangeIndex: 472029 entries, 0 to 472028\n",
      "Data columns (total 19 columns):\n",
      "Artist(s)           472029 non-null object\n",
      "Date                472029 non-null object\n",
      "Duration            472029 non-null int64\n",
      "Popularity          472029 non-null int64\n",
      "Song Title          472029 non-null object\n",
      "Success             472029 non-null int64\n",
      "acousticness        472029 non-null float64\n",
      "danceability        472029 non-null float64\n",
      "energy              472029 non-null float64\n",
      "id                  472029 non-null object\n",
      "instrumentalness    472029 non-null float64\n",
      "key                 472029 non-null int64\n",
      "liveness            472029 non-null float64\n",
      "loudness            472029 non-null float64\n",
      "mode                472029 non-null int64\n",
      "speechiness         472029 non-null float64\n",
      "tempo               472029 non-null float64\n",
      "time_signature      472029 non-null int64\n",
      "valence             472029 non-null float64\n",
      "dtypes: float64(9), int64(6), object(4)\n",
      "memory usage: 68.4+ MB\n",
      "None\n",
      "Good Split\n",
      "\n",
      "Train Set Size: 70.00%\n",
      "Test Set Size:  30.00%\n",
      "\n",
      "Overall Success:   1.23234%\n",
      "Training Success:  1.23782%\n",
      "Test Success:      1.21956%\n"
     ]
    }
   ],
   "source": [
    "features = [\n",
    "    'Duration',\n",
    "    'acousticness',\n",
    "    'danceability',\n",
    "    'energy', \n",
    "    'instrumentalness',\n",
    "    'key',\n",
    "    'liveness',\n",
    "    'loudness',\n",
    "    'mode',\n",
    "    'speechiness',\n",
    "    'tempo',\n",
    "    'time_signature',\n",
    "    'valence',\n",
    "    'Popularity',\n",
    "]\n",
    "\n",
    "target = 'Success'\n",
    "successes = big_frame[big_frame['Success']==1]\n",
    "not_successes = big_frame[big_frame['Success']==0]\n",
    "\n",
    "get_less = split_train_and_test(not_successes, 0.75)\n",
    "subset = get_less['test_set']\n",
    "\n",
    "new_frame = pd.concat([successes, subset], axis=0, ignore_index=True)\n",
    "print(new_frame.info())\n",
    "\n",
    "data_sets = split_train_and_test(new_frame, 0.7)\n",
    "training_set = data_sets['training_set']\n",
    "test_set = data_sets['test_set']\n",
    "\n",
    "X = training_set[features]\n",
    "X = scale_data(X)\n",
    "Y = training_set[target]\n",
    "\n",
    "X_test = test_set[features]\n",
    "X_test = scale_data(X_test)\n",
    "Y_test = test_set[target]\n",
    "\n",
    "print_set_info(new_frame, X, X_test, Y, Y_test)"
   ]
  },
  {
   "cell_type": "markdown",
   "metadata": {},
   "source": [
    "# ANN Investigation"
   ]
  },
  {
   "cell_type": "code",
   "execution_count": 56,
   "metadata": {},
   "outputs": [
    {
     "name": "stdout",
     "output_type": "stream",
     "text": [
      "1 Training 1 Neurons\n",
      "2 Training 2 Neurons\n",
      "3 Training 4 Neurons\n",
      "4 Training 6 Neurons\n",
      "5 Training 9 Neurons\n",
      "6 Training 12 Neurons\n",
      "7 Training 15 Neurons\n",
      "8 Training 18 Neurons\n",
      "9 Training 21 Neurons\n",
      "10 Training 25 Neurons\n",
      "11 Training 28 Neurons\n",
      "12 Training 32 Neurons\n",
      "13 Training 36 Neurons\n",
      "14 Training 40 Neurons\n",
      "15 Training 44 Neurons\n",
      "16 Training 48 Neurons\n",
      "17 Training 52 Neurons\n",
      "18 Training 57 Neurons\n",
      "19 Training 61 Neurons\n",
      "20 Training 66 Neurons\n",
      "21 Training 70 Neurons\n",
      "22 Training 75 Neurons\n",
      "23 Training 80 Neurons\n",
      "24 Training 85 Neurons\n",
      "25 Training 90 Neurons\n",
      "26 Training 95 Neurons\n",
      "27 Training 100 Neurons\n",
      "28 Training 106 Neurons\n",
      "29 Training 111 Neurons\n",
      "IN Sample\n",
      "\tBest Acc: 74.62%\n",
      "\tBest Acc Ind: 13\n",
      "OUT Sample\n",
      "\tBest Acc: 74.99%\n",
      "\tBest Acc Ind: 13\n",
      "Neurons: 40 | 40\n"
     ]
    },
    {
     "data": {
      "image/png": "[encoded data removed]",
      "text/plain": [
       "<Figure size 432x288 with 1 Axes>"
      ]
     },
     "metadata": {
      "needs_background": "light"
     },
     "output_type": "display_data"
    }
   ],
   "source": [
    "features = [\n",
    "    'Duration',\n",
    "    'acousticness',\n",
    "    'danceability',\n",
    "    'energy', \n",
    "    'instrumentalness',\n",
    "    'key',\n",
    "    'liveness',\n",
    "    'loudness',\n",
    "    'mode',\n",
    "    'speechiness',\n",
    "    'tempo',\n",
    "    #'time_signature',\n",
    "    'valence',\n",
    "    'Popularity',\n",
    "]\n",
    "\n",
    "X = training_set[features]\n",
    "X = scale_data(X)\n",
    "Y = training_set[target]\n",
    "\n",
    "X_test = test_set[features]\n",
    "X_test = scale_data(X_test)\n",
    "Y_test = test_set[target]\n",
    "\n",
    "neurons = [int(x**1.4) for x in range(1,30)]\n",
    "in_samp = []\n",
    "out_samp = []\n",
    "\n",
    "for cnt,neuron in enumerate(neurons):\n",
    "    \n",
    "    print((cnt+1), \"Training %d Neurons\"%(neuron))\n",
    "    clf = MLPClassifier(\n",
    "            hidden_layer_sizes = (neuron,),\n",
    "            solver='adam',\n",
    "            activation='logistic',\n",
    "            batch_size = int(0.01*X.shape[0]),\n",
    "            learning_rate='adaptive',\n",
    "            learning_rate_init=1,\n",
    "            verbose=False,\n",
    "            momentum=0.5,\n",
    "            alpha = 0.01,\n",
    "            max_iter = 10000,\n",
    "            random_state=1\n",
    "        )\n",
    "\n",
    "    clf.fit(X,Y)\n",
    "    acc = get_accuracy(clf, X, X_test, Y, Y_test)\n",
    "    \n",
    "    in_samp.append(acc['in'])\n",
    "    out_samp.append(acc['out'])\n",
    "    \n",
    "in_samp_np = np.array(in_samp)\n",
    "out_samp_np = np.array(out_samp)\n",
    "\n",
    "max_in = np.amax(in_samp_np[:,0])\n",
    "max_out = np.amax(out_samp_np[:,0])\n",
    "\n",
    "in_ind = in_samp_np[:,0].tolist().index(max_in)\n",
    "out_ind = out_samp_np[:,0].tolist().index(max_out)\n",
    "\n",
    "print(\"IN Sample\")\n",
    "print(\"\\tBest Acc: %.2f%%\"%(max_in))\n",
    "print(\"\\tBest Acc Ind:\", in_ind)\n",
    "print(\"OUT Sample\")\n",
    "print(\"\\tBest Acc: %.2f%%\"%(max_out))\n",
    "print(\"\\tBest Acc Ind:\", out_ind)\n",
    "print(\"Neurons: %d | %d\"%(neurons[in_ind], neurons[out_ind]))\n",
    "\n",
    "plt.plot(neurons, in_samp_np, 'b', neurons, out_samp_np, 'g')\n",
    "plt.plot([neurons[in_ind]]*4, [in_samp_np[in_ind,0], in_samp_np[in_ind,1], out_samp_np[in_ind,0], out_samp_np[in_ind,1]], 'r*')\n",
    "plt.show()"
   ]
  },
  {
   "cell_type": "code",
   "execution_count": 101,
   "metadata": {
    "scrolled": false
   },
   "outputs": [
    {
     "name": "stdout",
     "output_type": "stream",
     "text": [
      "Perfect Classifier:\n",
      "\n",
      "   Predicted Class\n",
      "      0    |   1\n",
      "0 | 0.9877 | 0.0000 |\n",
      "1 | 0.0000 | 0.0123 |\n",
      "\n",
      "Training Accuracy: 88.60%\n",
      "\n",
      "   Predicted Class\n",
      "      0    |   1\n",
      "0 | 0.8756 | 0.1122 |\n",
      "1 | 0.0019 | 0.0104 |\n",
      "\n",
      "Test Accuracy: 88.55%\n",
      "\n",
      "   Predicted Class\n",
      "      0    |   1\n",
      "0 | 0.8749 | 0.1127 |\n",
      "1 | 0.0018 | 0.0106 |\n",
      "\n",
      "In-Sample Percent Success: 84.91%\n",
      "In-Sample Percent Fail: 88.65%\n",
      "Out-Sample Percent Success: 85.24%\n",
      "Out-Sample Percent Fail: 88.59%\n"
     ]
    }
   ],
   "source": [
    "trained_ANN = MLPClassifier(\n",
    "        hidden_layer_sizes = (40,),\n",
    "        solver='adam',\n",
    "        activation='logistic',\n",
    "        batch_size = int(0.01*X.shape[0]),\n",
    "        learning_rate='adaptive',\n",
    "        learning_rate_init=1,\n",
    "        verbose=False,\n",
    "        momentum=0.5,\n",
    "        alpha = 0.01,\n",
    "        max_iter = 10000,\n",
    "        random_state=1\n",
    "    )\n",
    "\n",
    "trained_ANN.fit(X,Y)\n",
    "print(\"Perfect Classifier:\")\n",
    "print_confusion(construct_confusion(Y, Y))\n",
    "print_accuracy(trained_ANN, X, X_test, Y, Y_test)"
   ]
  },
  {
   "cell_type": "markdown",
   "metadata": {},
   "source": [
    "# Decision Tree Experimentation"
   ]
  },
  {
   "cell_type": "code",
   "execution_count": 97,
   "metadata": {},
   "outputs": [
    {
     "name": "stdout",
     "output_type": "stream",
     "text": [
      "Perfect Classifier:\n",
      "\n",
      "   Predicted Class\n",
      "      0    |   1\n",
      "0 | 0.9877 | 0.0000 |\n",
      "1 | 0.0000 | 0.0123 |\n",
      "\n",
      "Training Accuracy: 99.00%\n",
      "\n",
      "   Predicted Class\n",
      "      0    |   1\n",
      "0 | 0.9862 | 0.0015 |\n",
      "1 | 0.0085 | 0.0038 |\n",
      "\n",
      "Test Accuracy: 98.73%\n",
      "\n",
      "   Predicted Class\n",
      "      0    |   1\n",
      "0 | 0.9848 | 0.0028 |\n",
      "1 | 0.0099 | 0.0025 |\n",
      "\n",
      "In-Sample Percent Success: 31.02%\n",
      "In-Sample Percent Fail: 99.85%\n",
      "Out-Sample Percent Success: 20.23%\n",
      "Out-Sample Percent Fail: 99.72%\n"
     ]
    }
   ],
   "source": [
    "from sklearn import tree\n",
    "from sklearn.tree import export_graphviz\n",
    "from sklearn.externals.six import StringIO   \n",
    "import pydotplus\n",
    "\n",
    "def create_tree_png(tree_model, output_file):\n",
    "    dot_data = StringIO()\n",
    "    export_graphviz(tree_model, out_file=dot_data, filled=True, rounded=True, special_characters=True,feature_names = features)\n",
    "    graph = pydotplus.graph_from_dot_data(dot_data.getvalue())  \n",
    "    graph.write_png(output_file)\n",
    "\n",
    "dec_tree = tree.DecisionTreeClassifier(\n",
    "        criterion='entropy',\n",
    "        max_leaf_nodes=500\n",
    ")\n",
    "trained_TREE = dec_tree.fit(X,Y)\n",
    "print(\"Perfect Classifier:\")\n",
    "print_confusion(construct_confusion(Y, Y))\n",
    "print_accuracy(trained_TREE, X, X_test, Y, Y_test)"
   ]
  },
  {
   "cell_type": "markdown",
   "metadata": {},
   "source": [
    "# Trained Model Testing and Validation"
   ]
  },
  {
   "cell_type": "code",
   "execution_count": 107,
   "metadata": {},
   "outputs": [
    {
     "name": "stdout",
     "output_type": "stream",
     "text": [
      "================== Artificial Neural Network ============================\n",
      "Number Hits:          25\n",
      "Classified Hits:      22\n",
      "Hit Accuracy:         88.00%\n",
      "\n",
      "Misclassified Hits:   1241\n",
      "Not Hit Accuracy:     87.56%\n",
      "\n",
      "Hit Success Rate:     1.74%\n",
      "Overall Set Accuracy: 87.56%\n",
      "\n",
      "   Predicted Class\n",
      "      0    |   1\n",
      "0 | 0.8734 | 0.1241 |\n",
      "1 | 0.0003 | 0.0022 |\n",
      "\n",
      "\n",
      "================== Decision Tree ============================\n",
      "Number Hits:          25\n",
      "Classified Hits:      8\n",
      "Hit Accuracy:         32.00%\n",
      "\n",
      "Misclassified Hits:   30\n",
      "Not Hit Accuracy:     99.70%\n",
      "\n",
      "Hit Success Rate:     21.05%\n",
      "Overall Set Accuracy: 99.53%\n",
      "\n",
      "   Predicted Class\n",
      "      0    |   1\n",
      "0 | 0.9945 | 0.0030 |\n",
      "1 | 0.0017 | 0.0008 |\n",
      "\n"
     ]
    }
   ],
   "source": [
    "def generate_random_set(num_points, dataset):\n",
    "    data_points = dataset.shape[0]\n",
    "\n",
    "    set_list = sample(range(data_points), int(num_points))\n",
    "    set_list.sort()\n",
    "\n",
    "    random_set = dataset.iloc[set_list]\n",
    "    random_set.reset_index(inplace=True, drop=True)\n",
    "    return random_set\n",
    "\n",
    "def correct_hits(truth, prediction):\n",
    "    return np.sum(np.dot(truth, prediction))\n",
    "\n",
    "rand_set = generate_random_set(10000, big_frame)\n",
    "\n",
    "X_rand = rand_set[features]\n",
    "X_rand = scale_data(X_rand)\n",
    "Y_rand = rand_set['Success']\n",
    "\n",
    "print(\"================== Artificial Neural Network ============================\")\n",
    "model_to_test = trained_ANN\n",
    "\n",
    "prediction = model_to_test.predict(X_rand)\n",
    "truth = Y_rand.to_numpy()\n",
    "diff = truth - prediction\n",
    "\n",
    "print(\"Number Hits:         \", np.sum(truth))\n",
    "print(\"Classified Hits:     \", correct_hits(truth, prediction))\n",
    "print(\"Hit Accuracy:         %.2f%%\"%(correct_hits(truth, prediction)*100/np.sum(truth)))\n",
    "\n",
    "print(\"\\nMisclassified Hits:  \", np.sum(prediction) - correct_hits(truth, prediction))\n",
    "print(\"Not Hit Accuracy:     %.2f%%\"%((1 - (np.sum(prediction)-correct_hits(truth, prediction))/(len(truth)-np.sum(truth)))*100))\n",
    "\n",
    "print(\"\\nHit Success Rate:     %.2f%%\"%(correct_hits(truth, prediction)*100/np.sum(prediction)))\n",
    "\n",
    "confusion_train = construct_confusion(truth, prediction)\n",
    "\n",
    "print(\"Overall Set Accuracy: %.2f%%\"%(100 - np.sum(np.abs(diff))*100/len(truth)))\n",
    "print_confusion(confusion_train)\n",
    "\n",
    "print(\"\\n================== Decision Tree ============================\")\n",
    "model_to_test = trained_TREE\n",
    "\n",
    "prediction = model_to_test.predict(X_rand)\n",
    "truth = Y_rand.to_numpy()\n",
    "diff = truth - prediction\n",
    "\n",
    "print(\"Number Hits:         \", np.sum(truth))\n",
    "print(\"Classified Hits:     \", correct_hits(truth, prediction))\n",
    "print(\"Hit Accuracy:         %.2f%%\"%(correct_hits(truth, prediction)*100/np.sum(truth)))\n",
    "\n",
    "print(\"\\nMisclassified Hits:  \", np.sum(prediction) - correct_hits(truth, prediction))\n",
    "print(\"Not Hit Accuracy:     %.2f%%\"%((1 - (np.sum(prediction)-correct_hits(truth, prediction))/(len(truth)-np.sum(truth)))*100))\n",
    "\n",
    "print(\"\\nHit Success Rate:     %.2f%%\"%(correct_hits(truth, prediction)*100/np.sum(prediction)))\n",
    "\n",
    "confusion_train = construct_confusion(truth, prediction)\n",
    "\n",
    "print(\"Overall Set Accuracy: %.2f%%\"%(100 - np.sum(np.abs(diff))*100/len(truth)))\n",
    "print_confusion(confusion_train)"
   ]
  },
  {
   "cell_type": "markdown",
   "metadata": {},
   "source": [
    "# Feature Investigation\n",
    "## Feature Histograms"
   ]
  },
  {
   "cell_type": "code",
   "execution_count": 116,
   "metadata": {
    "scrolled": true
   },
   "outputs": [
    {
     "data": {
      "image/png": "[encoded data removed]",
      "text/plain": [
       "<Figure size 432x288 with 1 Axes>"
      ]
     },
     "metadata": {
      "needs_background": "light"
     },
     "output_type": "display_data"
    },
    {
     "data": {
      "image/png": "[encoded data removed]",
      "text/plain": [
       "<Figure size 432x288 with 1 Axes>"
      ]
     },
     "metadata": {
      "needs_background": "light"
     },
     "output_type": "display_data"
    },
    {
     "data": {
      "image/png": "[encoded data removed]",
      "text/plain": [
       "<Figure size 432x288 with 1 Axes>"
      ]
     },
     "metadata": {
      "needs_background": "light"
     },
     "output_type": "display_data"
    },
    {
     "data": {
      "image/png": "[encoded data removed]",
      "text/plain": [
       "<Figure size 432x288 with 1 Axes>"
      ]
     },
     "metadata": {
      "needs_background": "light"
     },
     "output_type": "display_data"
    },
    {
     "data": {
      "image/png": "[encoded data removed]",
      "text/plain": [
       "<Figure size 432x288 with 1 Axes>"
      ]
     },
     "metadata": {
      "needs_background": "light"
     },
     "output_type": "display_data"
    },
    {
     "data": {
      "image/png": "[encoded data removed]",
      "text/plain": [
       "<Figure size 432x288 with 1 Axes>"
      ]
     },
     "metadata": {
      "needs_background": "light"
     },
     "output_type": "display_data"
    },
    {
     "data": {
      "image/png": "[encoded data removed]",
      "text/plain": [
       "<Figure size 432x288 with 1 Axes>"
      ]
     },
     "metadata": {
      "needs_background": "light"
     },
     "output_type": "display_data"
    },
    {
     "data": {
      "image/png": "[encoded data removed]",
      "text/plain": [
       "<Figure size 432x288 with 1 Axes>"
      ]
     },
     "metadata": {
      "needs_background": "light"
     },
     "output_type": "display_data"
    },
    {
     "data": {
      "image/png": "[encoded data removed]",
      "text/plain": [
       "<Figure size 432x288 with 1 Axes>"
      ]
     },
     "metadata": {
      "needs_background": "light"
     },
     "output_type": "display_data"
    },
    {
     "data": {
      "image/png": "[encoded data removed]",
      "text/plain": [
       "<Figure size 432x288 with 1 Axes>"
      ]
     },
     "metadata": {
      "needs_background": "light"
     },
     "output_type": "display_data"
    },
    {
     "data": {
      "image/png": "[encoded data removed]",
      "text/plain": [
       "<Figure size 432x288 with 1 Axes>"
      ]
     },
     "metadata": {
      "needs_background": "light"
     },
     "output_type": "display_data"
    },
    {
     "data": {
      "image/png": "[encoded data removed]",
      "text/plain": [
       "<Figure size 432x288 with 1 Axes>"
      ]
     },
     "metadata": {
      "needs_background": "light"
     },
     "output_type": "display_data"
    },
    {
     "data": {
      "image/png": "[encoded data removed]",
      "text/plain": [
       "<Figure size 432x288 with 1 Axes>"
      ]
     },
     "metadata": {
      "needs_background": "light"
     },
     "output_type": "display_data"
    },
    {
     "data": {
      "image/png": "[encoded data removed]",
      "text/plain": [
       "<Figure size 432x288 with 1 Axes>"
      ]
     },
     "metadata": {
      "needs_background": "light"
     },
     "output_type": "display_data"
    },
    {
     "data": {
      "image/png": "[encoded data removed]",
      "text/plain": [
       "<Figure size 432x288 with 1 Axes>"
      ]
     },
     "metadata": {
      "needs_background": "light"
     },
     "output_type": "display_data"
    }
   ],
   "source": [
    "features = [\n",
    "    'Duration',\n",
    "    'Year',\n",
    "    'acousticness',\n",
    "    'danceability',\n",
    "    'energy', \n",
    "    'instrumentalness',\n",
    "    'key',\n",
    "    'liveness',\n",
    "    'loudness',\n",
    "    'mode',\n",
    "    'speechiness',\n",
    "    'tempo',\n",
    "    'time_signature',\n",
    "    'valence',\n",
    "    'Popularity'\n",
    "]\n",
    "\n",
    "new_frame = add_year(new_frame)\n",
    "\n",
    "success = new_frame[new_frame['Success'] == 1]\n",
    "\n",
    "not_success = new_frame[new_frame['Success']==0]\n",
    "\n",
    "colors = ['green', 'red']\n",
    "for feat in features:\n",
    "    plt.hist([success[feat], not_success[feat]], 20, density=True, histtype='bar', color=colors, label=['Success', 'Not Sucess'])\n",
    "    #plt.hist([survived_predict, died_predict], 20, stacked=True, histtype='step', color=colors, label=['survived', 'died'])\n",
    "    plt.title(feat)\n",
    "    plt.legend(prop={'size': 10})\n",
    "    plt.show()"
   ]
  },
  {
   "cell_type": "markdown",
   "metadata": {},
   "source": [
    "## Multivariate Regression P-value Analysis"
   ]
  },
  {
   "cell_type": "code",
   "execution_count": 3,
   "metadata": {},
   "outputs": [
    {
     "name": "stderr",
     "output_type": "stream",
     "text": [
      "/home/ronnie/anaconda3/lib/python3.7/site-packages/numpy/core/fromnumeric.py:2495: FutureWarning: Method .ptp is deprecated and will be removed in a future version. Use numpy.ptp instead.\n",
      "  return ptp(axis=axis, out=out, **kwargs)\n"
     ]
    },
    {
     "name": "stdout",
     "output_type": "stream",
     "text": [
      "                            OLS Regression Results                            \n",
      "==============================================================================\n",
      "Dep. Variable:                Success   R-squared:                       0.046\n",
      "Model:                            OLS   Adj. R-squared:                  0.046\n",
      "Method:                 Least Squares   F-statistic:                     2259.\n",
      "Date:                Tue, 21 Apr 2020   Prob (F-statistic):               0.00\n",
      "Time:                        18:51:25   Log-Likelihood:             7.5210e+05\n",
      "No. Observations:              656768   AIC:                        -1.504e+06\n",
      "Df Residuals:                  656753   BIC:                        -1.504e+06\n",
      "Df Model:                          14                                         \n",
      "Covariance Type:            nonrobust                                         \n",
      "====================================================================================\n",
      "                       coef    std err          t      P>|t|      [0.025      0.975]\n",
      "------------------------------------------------------------------------------------\n",
      "const                0.0063    9.5e-05     65.808      0.000       0.006       0.006\n",
      "Duration             0.0004    9.7e-05      4.627      0.000       0.000       0.001\n",
      "acousticness        -0.0007      0.000     -5.270      0.000      -0.001      -0.000\n",
      "danceability         0.0003      0.000      2.714      0.007    9.17e-05       0.001\n",
      "energy              -0.0007      0.000     -3.886      0.000      -0.001      -0.000\n",
      "instrumentalness    -0.0014      0.000    -12.604      0.000      -0.002      -0.001\n",
      "key                  0.0002   9.63e-05      2.269      0.023    2.98e-05       0.000\n",
      "liveness            -0.0007      0.000     -6.655      0.000      -0.001      -0.000\n",
      "loudness            -0.0021      0.000    -12.689      0.000      -0.002      -0.002\n",
      "mode                 0.0006   9.74e-05      6.434      0.000       0.000       0.001\n",
      "speechiness         -0.0012      0.000    -11.737      0.000      -0.001      -0.001\n",
      "tempo               -0.0004   9.88e-05     -4.233      0.000      -0.001      -0.000\n",
      "time_signature       0.0002   9.84e-05      1.797      0.072   -1.61e-05       0.000\n",
      "valence              0.0033      0.000     26.662      0.000       0.003       0.003\n",
      "Popularity           0.0166   9.66e-05    172.062      0.000       0.016       0.017\n",
      "==============================================================================\n",
      "Omnibus:                  1093712.131   Durbin-Watson:                   0.074\n",
      "Prob(Omnibus):                  0.000   Jarque-Bera (JB):        560530307.644\n",
      "Skew:                          11.668   Prob(JB):                         0.00\n",
      "Kurtosis:                     144.204   Cond. No.                         4.56\n",
      "==============================================================================\n",
      "\n",
      "Warnings:\n",
      "[1] Standard Errors assume that the covariance matrix of the errors is correctly specified.\n"
     ]
    }
   ],
   "source": [
    "import statsmodels.api as sm\n",
    "\n",
    "X2 = sm.add_constant(X)\n",
    "est = sm.OLS(Y, X2)\n",
    "est2 = est.fit()\n",
    "print(est2.summary())"
   ]
  },
  {
   "cell_type": "markdown",
   "metadata": {},
   "source": [
    "### As shown above danceability, key, and time_signature all have p-values greater than roughly 0, indicating that they are weak features, removing them one by one provides the following subset of features that are important"
   ]
  },
  {
   "cell_type": "code",
   "execution_count": 6,
   "metadata": {},
   "outputs": [
    {
     "name": "stdout",
     "output_type": "stream",
     "text": [
      "                            OLS Regression Results                            \n",
      "==============================================================================\n",
      "Dep. Variable:                Success   R-squared:                       0.046\n",
      "Model:                            OLS   Adj. R-squared:                  0.046\n",
      "Method:                 Least Squares   F-statistic:                     2874.\n",
      "Date:                Tue, 21 Apr 2020   Prob (F-statistic):               0.00\n",
      "Time:                        18:56:39   Log-Likelihood:             7.5209e+05\n",
      "No. Observations:              656768   AIC:                        -1.504e+06\n",
      "Df Residuals:                  656756   BIC:                        -1.504e+06\n",
      "Df Model:                          11                                         \n",
      "Covariance Type:            nonrobust                                         \n",
      "====================================================================================\n",
      "                       coef    std err          t      P>|t|      [0.025      0.975]\n",
      "------------------------------------------------------------------------------------\n",
      "const                0.0063    9.5e-05     65.807      0.000       0.006       0.006\n",
      "Duration             0.0005   9.69e-05      4.689      0.000       0.000       0.001\n",
      "acousticness        -0.0008      0.000     -6.087      0.000      -0.001      -0.001\n",
      "energy              -0.0008      0.000     -4.502      0.000      -0.001      -0.000\n",
      "instrumentalness    -0.0014      0.000    -12.504      0.000      -0.002      -0.001\n",
      "liveness            -0.0007   9.99e-05     -7.277      0.000      -0.001      -0.001\n",
      "loudness            -0.0020      0.000    -12.324      0.000      -0.002      -0.002\n",
      "mode                 0.0006   9.61e-05      5.987      0.000       0.000       0.001\n",
      "speechiness         -0.0011   9.78e-05    -11.435      0.000      -0.001      -0.001\n",
      "tempo               -0.0004   9.81e-05     -4.550      0.000      -0.001      -0.000\n",
      "valence              0.0034      0.000     32.388      0.000       0.003       0.004\n",
      "Popularity           0.0166   9.66e-05    172.145      0.000       0.016       0.017\n",
      "==============================================================================\n",
      "Omnibus:                  1093733.931   Durbin-Watson:                   0.074\n",
      "Prob(Omnibus):                  0.000   Jarque-Bera (JB):        560585412.061\n",
      "Skew:                          11.668   Prob(JB):                         0.00\n",
      "Kurtosis:                     144.211   Cond. No.                         4.17\n",
      "==============================================================================\n",
      "\n",
      "Warnings:\n",
      "[1] Standard Errors assume that the covariance matrix of the errors is correctly specified.\n"
     ]
    }
   ],
   "source": [
    "features = [\n",
    "    'Duration',\n",
    "    'acousticness',\n",
    "    #'danceability',\n",
    "    'energy', \n",
    "    'instrumentalness',\n",
    "    #'key',\n",
    "    'liveness',\n",
    "    'loudness',\n",
    "    'mode',\n",
    "    'speechiness',\n",
    "    'tempo',\n",
    "    #'time_signature',\n",
    "    'valence',\n",
    "    'Popularity',\n",
    "]\n",
    "\n",
    "X2 = sm.add_constant(X[features])\n",
    "est = sm.OLS(Y, X2)\n",
    "est2 = est.fit()\n",
    "print(est2.summary())"
   ]
  },
  {
   "cell_type": "code",
   "execution_count": null,
   "metadata": {},
   "outputs": [],
   "source": []
  }
 ],
 "metadata": {
  "kernelspec": {
   "display_name": "Python 3",
   "language": "python",
   "name": "python3"
  },
  "language_info": {
   "codemirror_mode": {
    "name": "ipython",
    "version": 3
   },
   "file_extension": ".py",
   "mimetype": "text/x-python",
   "name": "python",
   "nbconvert_exporter": "python",
   "pygments_lexer": "ipython3",
   "version": "3.7.4"
  }
 },
 "nbformat": 4,
 "nbformat_minor": 2
}
